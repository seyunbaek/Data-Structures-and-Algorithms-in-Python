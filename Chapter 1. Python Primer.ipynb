{
 "cells": [
  {
   "cell_type": "markdown",
   "id": "172a5985",
   "metadata": {},
   "source": [
    "# Chapter 1: Python Primer"
   ]
  },
  {
   "cell_type": "markdown",
   "id": "6f1aba70",
   "metadata": {},
   "source": [
    "### Table of Contents\n",
    "* [1.1 Python Overview](#section_1_1)\n",
    "    * [1.1.1 The Python Interpreter](#section_1_1_1)\n",
    "    * [1.1.2 Preview of a Python Program](#section_1_1_2)\n"
   ]
  },
  {
   "cell_type": "markdown",
   "id": "4dddb53c",
   "metadata": {},
   "source": [
    "## 1.1 Python Overview <a class=\"anchor\" id=\"section_1_1\"></a>\n",
    "- Such high-level computer language as Python enables us to communicate detailed instructions to the computer, making it suitable for building data structures and algorithms.\n",
    "- The Python programming language was originally developed by Guido van Rossum in February 20, 1991 as a \"hobby project to spend time during Christmas.\"\n",
    "- Since its development, Python became a prominently use language in industry and education.\n",
    "- The second major version, Python 2, was released in 2000 followed by the third major version, Python 3, which was released in 2008.\n",
    "- [Official Python Website](https://www.python.org/)\n",
    "\n",
    "### 1.1.1 The Python Interpreter <a class=\"anchor\" id=\"section_1_1_1\"></a>\n",
    "\n",
    "\n",
    "### 1.1.2 Preview of a Python Program <a class=\"anchor\" id=\"section_1_1_2\"></a>\n"
   ]
  }
 ],
 "metadata": {
  "kernelspec": {
   "display_name": "Python 3 (ipykernel)",
   "language": "python",
   "name": "python3"
  },
  "language_info": {
   "codemirror_mode": {
    "name": "ipython",
    "version": 3
   },
   "file_extension": ".py",
   "mimetype": "text/x-python",
   "name": "python",
   "nbconvert_exporter": "python",
   "pygments_lexer": "ipython3",
   "version": "3.10.4"
  }
 },
 "nbformat": 4,
 "nbformat_minor": 5
}
