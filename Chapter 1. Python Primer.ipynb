{
 "cells": [
  {
   "cell_type": "markdown",
   "id": "172a5985",
   "metadata": {},
   "source": [
    "# Chapter 1: Python Primer"
   ]
  },
  {
   "cell_type": "markdown",
   "id": "6f1aba70",
   "metadata": {},
   "source": [
    "### Table of Contents\n",
    "* [1.1 Python Overview](#section_1_1)\n",
    "    * [1.1.1 The Python Interpreter](#section_1_1_1)\n",
    "    * [1.1.2 Preview of a Python Program](#section_1_1_2)\n"
   ]
  },
  {
   "cell_type": "markdown",
   "id": "4dddb53c",
   "metadata": {},
   "source": [
    "## 1.1 Python Overview <a class=\"anchor\" id=\"section_1_1\"></a>\n",
    "- Such high-level computer language as Python enables us to communicate detailed instructions to the computer, making it suitable for building data structures and algorithms.\n",
    "- The Python programming language was originally developed by Guido van Rossum in February 20, 1991 as a \"hobby project to spend time during Christmas.\"\n",
    "- Since its development, Python became a prominently use language in industry and education.\n",
    "- The second major version, Python 2, was released in 2000 followed by the third major version, Python 3, which was released in 2008.\n",
    "- [Official Python Website](https://www.python.org/)\n",
    "\n",
    "### 1.1.1 The Python Interpreter <a class=\"anchor\" id=\"section_1_1_1\"></a>\n",
    "- Python is an **interpreted language**, where Python commands are executed through a **Python Interpreter**.\n",
    "- The interpreter receives the command, evaluates the command, and reports the results of the command.\n",
    "- The interpreter could be used interactively, but a programmer usually writes the command in a plain text file called the **source code** or **script**.\n",
    "- In the case of Python, the **source code** or **script** has a *.py* file type.\n",
    "- Three main ways the Python interpreter could be started:\n",
    "    - `python3`: Interactive mode\n",
    "    - `python3 <filename>.py`: Execute a predefined script\n",
    "    - `python3 -i <filename>.py`: Enter interactive mode after executing a script \n",
    "- Many **integrated development environments (IDEs)** provide richer software development platforms for Python. Including:\n",
    "    - A text-editor for displaying and editing the Python script\n",
    "    - A display of the results of the script\n",
    "    - A debugger allowing step-by-step execution of the script\n",
    "\n",
    "### 1.1.2 Preview of a Python Program <a class=\"anchor\" id=\"section_1_1_2\"></a>\n"
   ]
  },
  {
   "cell_type": "code",
   "execution_count": null,
   "id": "67bdd841",
   "metadata": {},
   "outputs": [],
   "source": []
  }
 ],
 "metadata": {
  "kernelspec": {
   "display_name": "Python 3 (ipykernel)",
   "language": "python",
   "name": "python3"
  },
  "language_info": {
   "codemirror_mode": {
    "name": "ipython",
    "version": 3
   },
   "file_extension": ".py",
   "mimetype": "text/x-python",
   "name": "python",
   "nbconvert_exporter": "python",
   "pygments_lexer": "ipython3",
   "version": "3.10.4"
  }
 },
 "nbformat": 4,
 "nbformat_minor": 5
}
